{
 "cells": [
  {
   "cell_type": "code",
   "execution_count": 5,
   "id": "f89d86a4",
   "metadata": {},
   "outputs": [],
   "source": [
    "# import packages\n",
    "import numpy as np\n",
    "import pandas as pd\n",
    "import matplotlib.pyplot as plt\n",
    "from IPython.display import display, HTML, display_html\n",
    "import seaborn as sns\n",
    "import datetime"
   ]
  },
  {
   "cell_type": "code",
   "execution_count": 6,
   "id": "11dcbca8",
   "metadata": {},
   "outputs": [],
   "source": [
    "#set formatting\n",
    "pd.set_option('display.max_columns', 100)\n",
    "pd.set_option('display.max_rows', 100)"
   ]
  },
  {
   "cell_type": "code",
   "execution_count": 7,
   "id": "1e062ebd",
   "metadata": {},
   "outputs": [],
   "source": [
    "#read in CSV file data\n",
    "df = pd.read_csv('Log_Angeles_United_States_reviews.csv')"
   ]
  },
  {
   "cell_type": "code",
   "execution_count": 8,
   "id": "6fcc6b24",
   "metadata": {},
   "outputs": [
    {
     "data": {
      "text/html": [
       "<div>\n",
       "<style scoped>\n",
       "    .dataframe tbody tr th:only-of-type {\n",
       "        vertical-align: middle;\n",
       "    }\n",
       "\n",
       "    .dataframe tbody tr th {\n",
       "        vertical-align: top;\n",
       "    }\n",
       "\n",
       "    .dataframe thead th {\n",
       "        text-align: right;\n",
       "    }\n",
       "</style>\n",
       "<table border=\"1\" class=\"dataframe\">\n",
       "  <thead>\n",
       "    <tr style=\"text-align: right;\">\n",
       "      <th></th>\n",
       "      <th>listing_id</th>\n",
       "      <th>date</th>\n",
       "    </tr>\n",
       "  </thead>\n",
       "  <tbody>\n",
       "    <tr>\n",
       "      <th>0</th>\n",
       "      <td>8941071</td>\n",
       "      <td>2017-06-13</td>\n",
       "    </tr>\n",
       "    <tr>\n",
       "      <th>1</th>\n",
       "      <td>8951895</td>\n",
       "      <td>2016-06-13</td>\n",
       "    </tr>\n",
       "    <tr>\n",
       "      <th>2</th>\n",
       "      <td>8941071</td>\n",
       "      <td>2017-06-30</td>\n",
       "    </tr>\n",
       "    <tr>\n",
       "      <th>3</th>\n",
       "      <td>8941071</td>\n",
       "      <td>2017-05-21</td>\n",
       "    </tr>\n",
       "    <tr>\n",
       "      <th>4</th>\n",
       "      <td>8941071</td>\n",
       "      <td>2017-04-27</td>\n",
       "    </tr>\n",
       "  </tbody>\n",
       "</table>\n",
       "</div>"
      ],
      "text/plain": [
       "   listing_id        date\n",
       "0     8941071  2017-06-13\n",
       "1     8951895  2016-06-13\n",
       "2     8941071  2017-06-30\n",
       "3     8941071  2017-05-21\n",
       "4     8941071  2017-04-27"
      ]
     },
     "metadata": {},
     "output_type": "display_data"
    }
   ],
   "source": [
    "#look at data\n",
    "display(df.head())\n"
   ]
  },
  {
   "cell_type": "code",
   "execution_count": 9,
   "id": "fe0148e5",
   "metadata": {},
   "outputs": [
    {
     "data": {
      "text/plain": [
       "(1532925, 2)"
      ]
     },
     "metadata": {},
     "output_type": "display_data"
    }
   ],
   "source": [
    "#look atshape of data\n",
    "display(df.shape)"
   ]
  },
  {
   "cell_type": "code",
   "execution_count": 10,
   "id": "db0b8d8f",
   "metadata": {},
   "outputs": [
    {
     "data": {
      "text/plain": [
       "listing_id    False\n",
       "date          False\n",
       "dtype: bool"
      ]
     },
     "metadata": {},
     "output_type": "display_data"
    }
   ],
   "source": [
    "#look at data types,Ideally look at all rows. Only look at first five here for minimal output.\n",
    "display(df.iloc[:5,:5].isnull().any())"
   ]
  },
  {
   "cell_type": "code",
   "execution_count": 12,
   "id": "3fe3349f",
   "metadata": {},
   "outputs": [
    {
     "data": {
      "text/html": [
       "<div>\n",
       "<style scoped>\n",
       "    .dataframe tbody tr th:only-of-type {\n",
       "        vertical-align: middle;\n",
       "    }\n",
       "\n",
       "    .dataframe tbody tr th {\n",
       "        vertical-align: top;\n",
       "    }\n",
       "\n",
       "    .dataframe thead th {\n",
       "        text-align: right;\n",
       "    }\n",
       "</style>\n",
       "<table border=\"1\" class=\"dataframe\">\n",
       "  <thead>\n",
       "    <tr style=\"text-align: right;\">\n",
       "      <th></th>\n",
       "      <th>listing_id</th>\n",
       "    </tr>\n",
       "  </thead>\n",
       "  <tbody>\n",
       "    <tr>\n",
       "      <th>count</th>\n",
       "      <td>1.532925e+06</td>\n",
       "    </tr>\n",
       "    <tr>\n",
       "      <th>mean</th>\n",
       "      <td>8.447806e+16</td>\n",
       "    </tr>\n",
       "    <tr>\n",
       "      <th>std</th>\n",
       "      <td>2.320841e+17</td>\n",
       "    </tr>\n",
       "    <tr>\n",
       "      <th>min</th>\n",
       "      <td>1.090000e+02</td>\n",
       "    </tr>\n",
       "    <tr>\n",
       "      <th>25%</th>\n",
       "      <td>1.149731e+07</td>\n",
       "    </tr>\n",
       "    <tr>\n",
       "      <th>50%</th>\n",
       "      <td>2.368548e+07</td>\n",
       "    </tr>\n",
       "    <tr>\n",
       "      <th>75%</th>\n",
       "      <td>4.443145e+07</td>\n",
       "    </tr>\n",
       "    <tr>\n",
       "      <th>85%</th>\n",
       "      <td>5.253356e+07</td>\n",
       "    </tr>\n",
       "    <tr>\n",
       "      <th>95%</th>\n",
       "      <td>7.212979e+17</td>\n",
       "    </tr>\n",
       "    <tr>\n",
       "      <th>99%</th>\n",
       "      <td>8.740625e+17</td>\n",
       "    </tr>\n",
       "    <tr>\n",
       "      <th>max</th>\n",
       "      <td>9.703354e+17</td>\n",
       "    </tr>\n",
       "  </tbody>\n",
       "</table>\n",
       "</div>"
      ],
      "text/plain": [
       "         listing_id\n",
       "count  1.532925e+06\n",
       "mean   8.447806e+16\n",
       "std    2.320841e+17\n",
       "min    1.090000e+02\n",
       "25%    1.149731e+07\n",
       "50%    2.368548e+07\n",
       "75%    4.443145e+07\n",
       "85%    5.253356e+07\n",
       "95%    7.212979e+17\n",
       "99%    8.740625e+17\n",
       "max    9.703354e+17"
      ]
     },
     "metadata": {},
     "output_type": "display_data"
    }
   ],
   "source": [
    "#display descriptive statistics\n",
    "display(df.describe(percentiles=[0.25,0.5,0.75,0.85,0.95,0.99]))"
   ]
  },
  {
   "cell_type": "code",
   "execution_count": 14,
   "id": "5e7893fc",
   "metadata": {},
   "outputs": [],
   "source": [
    "df = df.rename(columns = {'date': 'ds', 'listing_id': 'ts'})"
   ]
  },
  {
   "cell_type": "code",
   "execution_count": 15,
   "id": "1c0953e8",
   "metadata": {},
   "outputs": [],
   "source": [
    "df_example = df.groupby(by = 'ds').agg({'ts': 'count'})"
   ]
  },
  {
   "cell_type": "code",
   "execution_count": 16,
   "id": "17531b0a",
   "metadata": {},
   "outputs": [],
   "source": [
    "df_example.index = pd.to_datetime(df_example.index)"
   ]
  },
  {
   "cell_type": "code",
   "execution_count": 17,
   "id": "a4de95b7",
   "metadata": {},
   "outputs": [],
   "source": [
    "df_example = df_example.asfreq(freq='1D')"
   ]
  },
  {
   "cell_type": "code",
   "execution_count": 18,
   "id": "d565c959",
   "metadata": {},
   "outputs": [],
   "source": [
    "df_example = df_example.sort_index(ascending = True)"
   ]
  },
  {
   "cell_type": "code",
   "execution_count": 19,
   "id": "a2a76124",
   "metadata": {},
   "outputs": [],
   "source": [
    "df_example = df_example.fillna(value = 0)"
   ]
  },
  {
   "cell_type": "code",
   "execution_count": 20,
   "id": "c44831f3",
   "metadata": {},
   "outputs": [
    {
     "data": {
      "text/html": [
       "<div>\n",
       "<style scoped>\n",
       "    .dataframe tbody tr th:only-of-type {\n",
       "        vertical-align: middle;\n",
       "    }\n",
       "\n",
       "    .dataframe tbody tr th {\n",
       "        vertical-align: top;\n",
       "    }\n",
       "\n",
       "    .dataframe thead th {\n",
       "        text-align: right;\n",
       "    }\n",
       "</style>\n",
       "<table border=\"1\" class=\"dataframe\">\n",
       "  <thead>\n",
       "    <tr style=\"text-align: right;\">\n",
       "      <th></th>\n",
       "      <th>ts</th>\n",
       "    </tr>\n",
       "    <tr>\n",
       "      <th>ds</th>\n",
       "      <th></th>\n",
       "    </tr>\n",
       "  </thead>\n",
       "  <tbody>\n",
       "    <tr>\n",
       "      <th>2023-08-31</th>\n",
       "      <td>622.0</td>\n",
       "    </tr>\n",
       "    <tr>\n",
       "      <th>2023-09-01</th>\n",
       "      <td>486.0</td>\n",
       "    </tr>\n",
       "    <tr>\n",
       "      <th>2023-09-02</th>\n",
       "      <td>359.0</td>\n",
       "    </tr>\n",
       "    <tr>\n",
       "      <th>2023-09-03</th>\n",
       "      <td>389.0</td>\n",
       "    </tr>\n",
       "    <tr>\n",
       "      <th>2023-09-04</th>\n",
       "      <td>1.0</td>\n",
       "    </tr>\n",
       "  </tbody>\n",
       "</table>\n",
       "</div>"
      ],
      "text/plain": [
       "               ts\n",
       "ds               \n",
       "2023-08-31  622.0\n",
       "2023-09-01  486.0\n",
       "2023-09-02  359.0\n",
       "2023-09-03  389.0\n",
       "2023-09-04    1.0"
      ]
     },
     "metadata": {},
     "output_type": "display_data"
    }
   ],
   "source": [
    "display(df_example.tail())"
   ]
  },
  {
   "cell_type": "code",
   "execution_count": 21,
   "id": "04390251",
   "metadata": {},
   "outputs": [
    {
     "data": {
      "text/plain": [
       "[<matplotlib.lines.Line2D at 0x265c9661ed0>]"
      ]
     },
     "execution_count": 21,
     "metadata": {},
     "output_type": "execute_result"
    },
    {
     "data": {
      "image/png": "[encoded data removed]",
      "text/plain": [
       "<Figure size 640x480 with 1 Axes>"
      ]
     },
     "metadata": {},
     "output_type": "display_data"
    }
   ],
   "source": [
    "#Plot_Time_Series_Data\n",
    "f, ax = plt.subplots(1,1)\n",
    "ax.plot(df_example['ts'])"
   ]
  },
  {
   "cell_type": "code",
   "execution_count": 22,
   "id": "1155032a",
   "metadata": {},
   "outputs": [
    {
     "data": {
      "text/plain": [
       "Text(0.5, 1.0, 'Time-Series Graph for 1 time-series example')"
      ]
     },
     "execution_count": 22,
     "metadata": {},
     "output_type": "execute_result"
    }
   ],
   "source": [
    "#Adding_title\n",
    "ax.set_title(\"Time-Series Graph for 1 time-series example\")"
   ]
  },
  {
   "cell_type": "code",
   "execution_count": 23,
   "id": "a45043c5",
   "metadata": {},
   "outputs": [],
   "source": [
    "#Rotating_X-labels\n",
    "ax.tick_params(axis = 'x', rotation = 45)"
   ]
  },
  {
   "cell_type": "code",
   "execution_count": 24,
   "id": "8439fe55",
   "metadata": {},
   "outputs": [],
   "source": [
    "#Showing_Graph\n",
    "plt.show()\n",
    "plt.close()"
   ]
  },
  {
   "cell_type": "code",
   "execution_count": 26,
   "id": "4020011a",
   "metadata": {},
   "outputs": [],
   "source": [
    "from statsmodels.tsa.stattools import adfuller\n",
    "def test_stationarity(df, ts):\n",
    "    \"\"\"\n",
    "    Test stationarity using moving average statistics and Dickney-Fuller Test\n",
    "    \"\"\"\n",
    "    #Determing_rolling_statistics\n",
    "    rolmean = df[ts].rolling(window = 12, center = False).mean()\n",
    "    rolstd = df[ts].rolling(window = 12, center = False).std()"
   ]
  },
  {
   "cell_type": "code",
   "execution_count": null,
   "id": "fec098ae",
   "metadata": {},
   "outputs": [
    {
     "name": "stdout",
     "output_type": "stream",
     "text": [
      "Index(['ts', 'ds'], dtype='object')\n"
     ]
    },
    {
     "data": {
      "image/png": "[encoded data removed]",
      "text/plain": [
       "<Figure size 640x480 with 1 Axes>"
      ]
     },
     "metadata": {},
     "output_type": "display_data"
    },
    {
     "data": {
      "image/png": "[encoded data removed]",
      "text/plain": [
       "<Figure size 640x480 with 1 Axes>"
      ]
     },
     "metadata": {},
     "output_type": "display_data"
    },
    {
     "name": "stdout",
     "output_type": "stream",
     "text": [
      "Results of Dickey-Fuller Test:\n"
     ]
    }
   ],
   "source": [
    "#Plotting_Rolling_Statistics:\n",
    "print(df.columns)  # Replace 'ColumnName' with the actual column name in your DataFrame\n",
    "import pandas as pd\n",
    "import matplotlib.pyplot as plt\n",
    "\n",
    "# Assuming 'ts' is the column name in your DataFrame\n",
    "ts = 'ts'\n",
    "\n",
    "# Define the window size for rolling mean calculation\n",
    "window_size = 10  # Replace this with the desired window size\n",
    "\n",
    "# Calculate rolling mean\n",
    "rolmean = df[ts].rolling(window=window_size).mean()\n",
    "\n",
    "# Plot the original data and rolling mean\n",
    "orig = plt.plot(df[ts], color='blue', label='original')\n",
    "mean = plt.plot(rolmean, color='red', label='Rolling Mean')\n",
    "\n",
    "# Other plotting configurations and legend\n",
    "plt.legend(loc='best')\n",
    "plt.show()\n",
    "\n",
    "plt.title(f'Rolling Mean & Standard Deviation for {ts}')  # Using f-string for string formatting\n",
    "plt.xticks(rotation = 45)\n",
    "plt.show(block = False)\n",
    "plt.close()\n",
    "\n",
    "#Perform_Dickey-Fuller Test:\n",
    "print('Results of Dickey-Fuller Test:')\n",
    "dftest = adfuller(df[ts],\n",
    "                 autolag='AIC')\n",
    "dfoutput = pd.Series(dftest[0:4],\n",
    "                     index = ['Test Statistic',\n",
    "                             'p-value',\n",
    "                             '# Lags Used',\n",
    "                             'Number of Observations Used'])\n",
    "for key, value in dftest[4].items():\n",
    "    dfoutput['Critical Value ($s)'][key] = value\n",
    "print(dfoutput)"
   ]
  },
  {
   "cell_type": "code",
   "execution_count": null,
   "id": "7c1138e5",
   "metadata": {},
   "outputs": [],
   "source": []
  },
  {
   "cell_type": "code",
   "execution_count": null,
   "id": "927b0781",
   "metadata": {},
   "outputs": [],
   "source": []
  },
  {
   "cell_type": "code",
   "execution_count": null,
   "id": "e4c1bc86",
   "metadata": {},
   "outputs": [],
   "source": []
  }
 ],
 "metadata": {
  "kernelspec": {
   "display_name": "Python 3 (ipykernel)",
   "language": "python",
   "name": "python3"
  },
  "language_info": {
   "codemirror_mode": {
    "name": "ipython",
    "version": 3
   },
   "file_extension": ".py",
   "mimetype": "text/x-python",
   "name": "python",
   "nbconvert_exporter": "python",
   "pygments_lexer": "ipython3",
   "version": "3.11.5"
  }
 },
 "nbformat": 4,
 "nbformat_minor": 5
}
